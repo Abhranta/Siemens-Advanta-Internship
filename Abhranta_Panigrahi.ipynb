{
 "cells": [
  {
   "cell_type": "markdown",
   "metadata": {},
   "source": [
    "<h1> Abhranta Panigrahi </h1>\n",
    "<h2> Internship test submission </h2>"
   ]
  },
  {
   "cell_type": "code",
   "execution_count": 48,
   "metadata": {},
   "outputs": [],
   "source": [
    "import numpy as np\n",
    "import math\n",
    "from sympy import solve, symbols , Eq\n",
    "import matplotlib.pyplot as plt\n",
    "import scipy.integrate as integrate"
   ]
  },
  {
   "cell_type": "markdown",
   "metadata": {},
   "source": [
    "### Q1 - Find the approximate change in the value of $1/x^2$ when x changes from 2 to 100."
   ]
  },
  {
   "cell_type": "code",
   "execution_count": 118,
   "metadata": {},
   "outputs": [
    {
     "name": "stdout",
     "output_type": "stream",
     "text": [
      "0.2499\n"
     ]
    }
   ],
   "source": [
    "x1 = 1/4               # 1/2^2 = 1/2\n",
    "x2 = 1/10000           #1/100^2 = 1/10000\n",
    "output = x1 - x2\n",
    "print(output)"
   ]
  },
  {
   "cell_type": "markdown",
   "metadata": {},
   "source": [
    "### Q2 - Rishi has a total of 590 as currency notes in the denominations of 50,  20 and  10. The ratio of the number of 50 notes and 20 notes is 3:5. If she has a total of 25 notes, how many notes of each denomination she has?"
   ]
  },
  {
   "cell_type": "code",
   "execution_count": 119,
   "metadata": {},
   "outputs": [
    {
     "name": "stdout",
     "output_type": "stream",
     "text": [
      "Rishi has 9 number of 10 ruppee notes , 10 number of 20 ruppee notes and 6 number of 50 ruppee notes\n"
     ]
    }
   ],
   "source": [
    "## let ->\n",
    "#num of 10 ruppee notes = x, \n",
    "#num of 20 rupee notes = y, \n",
    "#num of 50 ruppee notes = z\n",
    "#####################################################################\n",
    "# given ->\n",
    "## total amount of currency = 590\n",
    "## three denominations = 50, 20, 10\n",
    "#Equation 1 => (10*x) + (20*y) + (50*z) = 590 \n",
    "\n",
    "## Ratio of number of 50 and 20 notes = 3:5\n",
    "#Equation 2 => z/y = 3/5 => (0*x) + (-3*y) + (5*z) = 0\n",
    "\n",
    "## total number of notes = 25\n",
    "#Equation 3 => (1*x) + (1*y) + (1*z) = 25\n",
    "\n",
    "#First we will create the array containing the coefficients of the variables in the three equations\n",
    "a = np.array([[10 , 20 , 50] , \n",
    "              [0 , -3 , 5] , \n",
    "              [1 , 1 , 1]])\n",
    "\n",
    "#Now we will create an array containing the y part of the three given equations\n",
    "b = np.array([590 , 0 , 25])\n",
    "numNotes = np.linalg.solve(a,b)    #Solving the system of equations using numpy\n",
    "num10 = int(np.round(numNotes[0]))     #The first one will be the number of 10 ruppee notes\n",
    "num20 = int(np.round(numNotes[1]))     # The second one will be the number of 20 ruppee notes\n",
    "num30 = int(np.round(numNotes[2]))     # The third one will be the number of 50 ruppee notes\n",
    "print(f\"Rishi has {num10} number of 10 ruppee notes , {num20} number of 20 ruppee notes and {num30} number of 50 ruppee notes\" , )"
   ]
  },
  {
   "cell_type": "markdown",
   "metadata": {},
   "source": [
    "### Q3 - The organizers of an essay competition decide that a winner in the competition gets a prize of  100 and a participant who does not win gets a prize of 25. The total prize money distributed is  3,000. Find the number of winners, if the total number of participants is 63."
   ]
  },
  {
   "cell_type": "code",
   "execution_count": 4,
   "metadata": {},
   "outputs": [
    {
     "name": "stdout",
     "output_type": "stream",
     "text": [
      "There are 19 winners in the essay competition\n"
     ]
    }
   ],
   "source": [
    "## let the number of winners  = x\n",
    "## hence, number of non winners => y= 63-x => (1*x) + (1*y) = 63\n",
    "# prize given per winner  = 100\n",
    "#total prize given to winners = 100*x\n",
    "#total prize given to non winners = 25*(y)\n",
    "\n",
    "## 100*x + 25*y = 3000\n",
    "\n",
    "#First we will create the array containing the coefficients of the variables in the three equations\n",
    "a = np.array([[1 , 1] , \n",
    "              [100 , 25]])\n",
    "\n",
    "#Now we will create an array containing the y part of the three given equations\n",
    "b = np.array([63 , 3000])\n",
    "\n",
    "ans = np.linalg.solve(a , b)\n",
    "\n",
    "numWinners = int(np.round(ans[0]))\n",
    "numLosers = int(np.round(ans[1]))\n",
    "\n",
    "print(f\"There are {numWinners} winners in the essay competition\")"
   ]
  },
  {
   "cell_type": "markdown",
   "metadata": {},
   "source": [
    "### Q4 - The sum of three consecutive multiples of 11 is 363. Find these multiples."
   ]
  },
  {
   "cell_type": "code",
   "execution_count": 5,
   "metadata": {},
   "outputs": [
    {
     "name": "stdout",
     "output_type": "stream",
     "text": [
      "The 3 consecutive multiples of 11 with sum as 363 are 110 , 121 , 132\n"
     ]
    }
   ],
   "source": [
    "# Let the 3 consecutive multiple of 11 are: 11x , 11(x+1) , 11(x+2)\n",
    "x = symbols('x')\n",
    "system = 11*x + 11*(x+1) + 11*(x+2) - 363\n",
    "solution = solve(system)\n",
    "print(f\"The 3 consecutive multiples of 11 with sum as 363 are {11*solution[0]} , {11*(solution[0] + 1)} , {11*(solution[0] + 2)}\")\n"
   ]
  },
  {
   "cell_type": "markdown",
   "metadata": {},
   "source": [
    "### Q5 - The digits of a two-digit number differ by 3. If the digits are interchanged, and the resulting number is added to the original number, we get 143. What can be the original number?"
   ]
  },
  {
   "cell_type": "code",
   "execution_count": 8,
   "metadata": {},
   "outputs": [
    {
     "name": "stdout",
     "output_type": "stream",
     "text": [
      "The original number is 85\n"
     ]
    }
   ],
   "source": [
    "## let the two numbers be x and y (Number is 10*x + y)\n",
    "## Equation1 => x - y = 3\n",
    "## Equation2 => (10*y + x) + (10*x + y) = 143 => 11*y + 11*x = 143\n",
    "\n",
    "\n",
    "#First we will create the array containing the coefficients of the variables in the three equations\n",
    "a = np.array([[1 , -1] , \n",
    "              [11 , 11]])\n",
    "\n",
    "#Now we will create an array containing the y part of the three given equations\n",
    "b = np.array([3 , 143])\n",
    "\n",
    "solution = np.linalg.solve(a , b)\n",
    "\n",
    "tensDigit = int(np.round(solution[0]))\n",
    "onesDigit = int(np.round(solution[1]))\n",
    "\n",
    "print(f\"The original number is {10*tensDigit + onesDigit}\")\n"
   ]
  },
  {
   "cell_type": "markdown",
   "metadata": {},
   "source": [
    "### Q6 -  Solve $5x - 2(2x-7) = 2(3x-1)+ 7/2$"
   ]
  },
  {
   "cell_type": "code",
   "execution_count": 13,
   "metadata": {},
   "outputs": [
    {
     "name": "stdout",
     "output_type": "stream",
     "text": [
      "x = 2.50000000000000\n"
     ]
    }
   ],
   "source": [
    "#Here I will be usig sympy to solve this equation\n",
    "\n",
    "x = symbols('x')                                   #Define the variable x according to SymPy syntax\n",
    "equation = 5*x - 2*(2*x-7) - 2*(3*x-1) - 7/2       #Write the eqation suck that it is equal to 0 \n",
    "solution = solve(equation)                         # Using the inbuilt solve function in SymPy to solve the linear equation\n",
    "\n",
    "print(f\"x = {solution[0]}\")"
   ]
  },
  {
   "cell_type": "markdown",
   "metadata": {},
   "source": [
    "### Q7 - Find the area of the region included between the parabola y^ 2 = x and the line x + y = 2 ."
   ]
  },
  {
   "cell_type": "markdown",
   "metadata": {},
   "source": [
    "<h4> Here I have done the following steps: </h4><ul>\n",
    "    <li> First I have plotted both the functions using matplotlib </li>\n",
    "    <li> Next, I have found the points of intersection of the 2 curves by solving them using SymPy </li>\n",
    "    <li> Nect, I have integrated both the functions withing the range of the points of intersection to finc the area between both the curves. </li>"
   ]
  },
  {
   "cell_type": "code",
   "execution_count": 86,
   "metadata": {},
   "outputs": [
    {
     "data": {
      "image/png": "[encoded data removed]",
      "text/plain": [
       "<Figure size 432x288 with 1 Axes>"
      ]
     },
     "metadata": {
      "needs_background": "light"
     },
     "output_type": "display_data"
    }
   ],
   "source": [
    "#Plotting bothe the curves for visualization\n",
    "fig, ax = plt.subplots()                      #Define the matplotlib attributes\n",
    "ax.spines['left'].set_position('zero')        #This is done to bring the y axis to the centre of the plot\n",
    "ax.spines['bottom'].set_position('zero')      #This is done to bring the x-axis to the centre of the plot\n",
    "\n",
    "ax.spines['right'].set_color('none')         \n",
    "ax.spines['top'].set_color('none')\n",
    "\n",
    "y, x = np.ogrid[-4:4:1000j, -6:6:1000j]      # As the first equation can be solved for imaginary x, hence I have taken these value range\n",
    "\n",
    "plt.contour(\n",
    "    x.ravel(), y.ravel(), y**2 - x, [0])     #I have plotted the quadratic function using plt.contour\n",
    "\n",
    "x2 = np.linspace(-1, 7.5, 1000)              #I have sampled 1000 points between -1 and 7.5\n",
    "y2 = 2 - x2                                  #This is the linear equation\n",
    "plt.plot(x2 , y2)                            #Here I have plotted te linear equation\n",
    "plt.show()                                   #The plot is displayed after plotting both functions so that both plots overlap"
   ]
  },
  {
   "cell_type": "code",
   "execution_count": 95,
   "metadata": {},
   "outputs": [
    {
     "data": {
      "text/plain": [
       "[-2, 1]"
      ]
     },
     "execution_count": 95,
     "metadata": {},
     "output_type": "execute_result"
    }
   ],
   "source": [
    "# We have to find the area between the 2 given curves.\n",
    "# For this we have to first the points of intersection\n",
    "# To find the points of intersection we have to solve the two equation \n",
    "y = symbols('y')\n",
    "x = symbols('x')\n",
    "eq = y**2 + y - 2    # eq1 -> y^2 = x , eq2 -> y = x-2 . Hence replacing x in eq1 to make it a quadratic equation in single variable 'y'\n",
    "solve(eq)            # This will give the y coordinates of the intersection of both of the curves"
   ]
  },
  {
   "cell_type": "code",
   "execution_count": 117,
   "metadata": {},
   "outputs": [
    {
     "name": "stdout",
     "output_type": "stream",
     "text": [
      "The area betwwen the given curves is 4.5\n"
     ]
    }
   ],
   "source": [
    "f = lambda x:x**2                       #This is the quadratic equation => y^2 = x\n",
    "g = lambda x:2-x                        #This is the linear equation y = 2-x\n",
    "\n",
    "fdu = integrate.quad(f , 1 , -2)[0]     # Here we are integrating the quatratic eqution between the intervals 2 and -1 and taking he first element as the function returns a tuple\n",
    "gdu = integrate.quad(g , 1 ,-2)[0]      # Here we are integrating the second equation between 2 and -1 and taking the first element as the function returns a tuple\n",
    "areaBtweenTheCurves = fdu - gdu         # The area between both the curves is the difference\n",
    "print(f\"The area between the given curves is {areaBtweenTheCurves}\")"
   ]
  },
  {
   "cell_type": "markdown",
   "metadata": {},
   "source": [
    "### Q8 - A manufacturer produces three models of toys in the form of bikes say X,Y and Z .  Model X takes as 10 man-hour to make per unit, Model Y takes 5 man-hour per unit and model Z takes 4 man-hour per unit. There are a total 212 man-hour available per week. Handling and marketing costs are < 20, < 30 and < 40 per unit for models X,Y and Z respectively. The total funds available for these purposes are < 920 per week. Profits per unit for models X,Y and Z are < 40, < 10and < 70 respectively, but at the end of the week, company get a profit of < 810. Solve the system of equations by matrix method."
   ]
  },
  {
   "cell_type": "code",
   "execution_count": 28,
   "metadata": {},
   "outputs": [
    {
     "name": "stdout",
     "output_type": "stream",
     "text": [
      "The company produces 10 Model-X toys, 20 Model-Y toys and 3 Model-Z toys\n"
     ]
    }
   ],
   "source": [
    "## Let number of Model X = x , num of Model Y = y, num of Model Z = z\n",
    "# Equation1 => 10*x + 5*y + 4*z = 212\n",
    "# Equation2 => 20*x + 30*y + 40*z = 920\n",
    "# Equation3 => 40*x + 10*y + 70*z = 810\n",
    "\n",
    "#First we will create the array containing the coefficients of the variables in the three equations\n",
    "a = np.array([[10 , 5 , 4] , \n",
    "              [20 , 30 , 40] , \n",
    "              [40 , 10 , 70]])\n",
    "\n",
    "#Now we will create an array containing the y part of the three given equations\n",
    "b = np.array([212 , 920 , 810])\n",
    "\n",
    "solution = np.linalg.solve(a , b)\n",
    "numModelX = int(np.round(solution[0]))\n",
    "numModelY = int(np.round(solution[1]))\n",
    "numModelZ = int(np.round(solution[2]))\n",
    "\n",
    "print(f\"The company produces {numModelX} Model-X toys, {numModelY} Model-Y toys and {numModelZ} Model-Z toys\")\n"
   ]
  },
  {
   "cell_type": "markdown",
   "metadata": {},
   "source": [
    "### Q9 - Prove that $tan^-1(cos x / (1-sin x)) = (\\pi/4 + x/2) , x \\epsilon (- \\pi/2 , \\pi/2)$"
   ]
  },
  {
   "cell_type": "markdown",
   "metadata": {},
   "source": [
    "<h4> Here I have tried 2 approaches:</h4><ul>\n",
    "    <li> First I have created a function for plotting the LHS and the RHS where the user can inut the lower limit, upper limit and the number of points to sammple from the given range and plot both the funcitons</li>\n",
    "    <li> Second I have used unit testing to test the simillarity between the LHS and the RHS within a given error delta </li></ul>"
   ]
  },
  {
   "cell_type": "code",
   "execution_count": 78,
   "metadata": {},
   "outputs": [],
   "source": [
    "def plot_functions(num_points , lower_limit , upper_limit):\n",
    "    f = lambda x: np.arctan(np.cos(x) / (1 - np.sin(x)))       #First we will define the LHS of the equation\n",
    "    g = lambda x: np.pi/4 + x/2                                #Now we will define the RHS of the equation   \n",
    "    x = np.linspace(lower_limit, upper_limit, num_points)      #Now we will sample 1000 points uniformly between -pi/2 and pi/2\n",
    "    fx = f(x)                                                  #Now we will calculate the LHS\n",
    "    gx = g(x)                                                  #Now we will calculate the RHS\n",
    "    plt.plot(x , fx , x , gx)                                  #Plotting both the functions using matplotlib"
   ]
  },
  {
   "cell_type": "code",
   "execution_count": 80,
   "metadata": {},
   "outputs": [
    {
     "data": {
      "image/png": "[encoded data removed]",
      "text/plain": [
       "<Figure size 432x288 with 1 Axes>"
      ]
     },
     "metadata": {
      "needs_background": "light"
     },
     "output_type": "display_data"
    }
   ],
   "source": [
    "#Please change the second last argument to change the lower limit and the last argument to change the upper limit\n",
    "plot_functions(1000 , -7 , 5)"
   ]
  },
  {
   "cell_type": "code",
   "execution_count": 83,
   "metadata": {},
   "outputs": [],
   "source": [
    "#First we will define the LHS of the equation\n",
    "f = lambda x: np.arctan(np.cos(x) / (1 - np.sin(x)))\n",
    "\n",
    "#Now we will define the RHS of the equation\n",
    "g = lambda x: np.pi/4 + x/2\n",
    "\n",
    "#Now we will sample 1000 points uniformly between -pi/2 and pi/2\n",
    "x = np.linspace(-np.pi/2, np.pi/2, 1000)\n",
    "\n",
    "\n",
    "#Now we will write a function to check the simillarity of the LHS array and the RHS array within a given a delta error\n",
    "#This is a concept of unit testing\n",
    "def test_WithDelta(fx , gx , delta):\n",
    "    first = fx\n",
    "    second = gx\n",
    "    delta = delta\n",
    "    # assert function() to check if values are almost equal\n",
    "    # if this assert function fails here, the code will return an AssertionError saying that the arrays are note almost equal\n",
    "    np.testing.assert_array_almost_equal(first, second, delta)\n",
    "    print(f\"Array are equal within a delta of {delta}\")"
   ]
  },
  {
   "cell_type": "code",
   "execution_count": 84,
   "metadata": {},
   "outputs": [
    {
     "name": "stdout",
     "output_type": "stream",
     "text": [
      "Array are equal within a delta of 1e-10\n"
     ]
    },
    {
     "name": "stderr",
     "output_type": "stream",
     "text": [
      "/home/abhrant/python/deep_learning/lib/python3.6/site-packages/ipykernel_launcher.py:2: RuntimeWarning: divide by zero encountered in true_divide\n",
      "  \n"
     ]
    }
   ],
   "source": [
    "#Testing the simillarity of the two arrays\n",
    "test_WithDelta(f(x) , g(x) , 0.0000000001)"
   ]
  },
  {
   "cell_type": "markdown",
   "metadata": {},
   "source": [
    "As the arrays are equal to such a high degree of precision. hence, we can safely say that $LHS = RHS$ within the given range"
   ]
  }
 ],
 "metadata": {
  "kernelspec": {
   "display_name": "Python 3",
   "language": "python",
   "name": "python3"
  },
  "language_info": {
   "codemirror_mode": {
    "name": "ipython",
    "version": 3
   },
   "file_extension": ".py",
   "mimetype": "text/x-python",
   "name": "python",
   "nbconvert_exporter": "python",
   "pygments_lexer": "ipython3",
   "version": "3.6.9"
  }
 },
 "nbformat": 4,
 "nbformat_minor": 4
}
